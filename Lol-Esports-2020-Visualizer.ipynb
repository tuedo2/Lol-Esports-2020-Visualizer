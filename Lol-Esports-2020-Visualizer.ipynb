{
 "cells": [
  {
   "cell_type": "code",
   "execution_count": 1,
   "metadata": {},
   "outputs": [],
   "source": [
    "from jupyter_dash import JupyterDash\n",
    "import dash\n",
    "import dash_core_components as dcc\n",
    "import dash_html_components as html\n",
    "import plotly.express as px\n",
    "import pandas as pd\n",
    "\n",
    "from dash.dependencies import Input, Output"
   ]
  },
  {
   "cell_type": "code",
   "execution_count": 2,
   "metadata": {},
   "outputs": [
    {
     "name": "stderr",
     "output_type": "stream",
     "text": [
      "/home/tuedo/anaconda3/lib/python3.7/site-packages/IPython/core/interactiveshell.py:3072: DtypeWarning: Columns (5) have mixed types.Specify dtype option on import or set low_memory=False.\n",
      "  interactivity=interactivity, compiler=compiler, result=result)\n"
     ]
    }
   ],
   "source": [
    "df = pd.read_csv(\"2020_LoL_esports_match_data_from_OraclesElixir_20210730.csv\")"
   ]
  },
  {
   "cell_type": "code",
   "execution_count": 3,
   "metadata": {},
   "outputs": [
    {
     "data": {
      "text/plain": [
       "(115140, 117)"
      ]
     },
     "execution_count": 3,
     "metadata": {},
     "output_type": "execute_result"
    }
   ],
   "source": [
    "df.shape"
   ]
  },
  {
   "cell_type": "code",
   "execution_count": 4,
   "metadata": {},
   "outputs": [
    {
     "name": "stdout",
     "output_type": "stream",
     "text": [
      "['gameid', 'datacompleteness', 'url', 'league', 'year', 'split', 'playoffs', 'date', 'game', 'patch', 'playerid', 'side', 'position', 'player', 'team', 'champion', 'ban1', 'ban2', 'ban3', 'ban4', 'ban5', 'gamelength', 'result', 'kills', 'deaths', 'assists', 'teamkills', 'teamdeaths', 'doublekills', 'triplekills', 'quadrakills', 'pentakills', 'firstblood', 'firstbloodkill', 'firstbloodassist', 'firstbloodvictim', 'team kpm', 'ckpm', 'firstdragon', 'dragons', 'opp_dragons', 'elementaldrakes', 'opp_elementaldrakes', 'infernals', 'mountains', 'clouds', 'oceans', 'dragons (type unknown)', 'elders', 'opp_elders', 'firstherald', 'heralds', 'opp_heralds', 'firstbaron', 'barons', 'opp_barons', 'firsttower', 'towers', 'opp_towers', 'firstmidtower', 'firsttothreetowers', 'inhibitors', 'opp_inhibitors', 'damagetochampions', 'dpm', 'damageshare', 'damagetakenperminute', 'damagemitigatedperminute', 'wardsplaced', 'wpm', 'wardskilled', 'wcpm', 'controlwardsbought', 'visionscore', 'vspm', 'totalgold', 'earnedgold', 'earned gpm', 'earnedgoldshare', 'goldspent', 'gspd', 'total cs', 'minionkills', 'monsterkills', 'monsterkillsownjungle', 'monsterkillsenemyjungle', 'cspm', 'goldat10', 'xpat10', 'csat10', 'opp_goldat10', 'opp_xpat10', 'opp_csat10', 'golddiffat10', 'xpdiffat10', 'csdiffat10', 'killsat10', 'assistsat10', 'deathsat10', 'opp_killsat10', 'opp_assistsat10', 'opp_deathsat10', 'goldat15', 'xpat15', 'csat15', 'opp_goldat15', 'opp_xpat15', 'opp_csat15', 'golddiffat15', 'xpdiffat15', 'csdiffat15', 'killsat15', 'assistsat15', 'deathsat15', 'opp_killsat15', 'opp_assistsat15', 'opp_deathsat15']\n"
     ]
    }
   ],
   "source": [
    "print(df.columns.to_list())"
   ]
  },
  {
   "cell_type": "code",
   "execution_count": 5,
   "metadata": {},
   "outputs": [
    {
     "data": {
      "text/plain": [
       "(3168, 117)"
      ]
     },
     "execution_count": 5,
     "metadata": {},
     "output_type": "execute_result"
    }
   ],
   "source": [
    "lcs_df = df[(df[\"league\"] == \"LCS\")];\n",
    "lcs_df.shape"
   ]
  },
  {
   "cell_type": "code",
   "execution_count": 6,
   "metadata": {},
   "outputs": [],
   "source": [
    "lcs_pick_dict = dict()\n",
    "\n",
    "for champ in lcs_df['champion']:\n",
    "    lcs_pick_dict[champ] = lcs_pick_dict.get(champ,0) + 1\n",
    "    \n",
    "lcs_ban_dict = dict()\n",
    "\n",
    "for ban in lcs_df[['ban1','ban2','ban3','ban4','ban5']]:\n",
    "    for champ in lcs_df[ban]:\n",
    "        lcs_ban_dict[champ] = lcs_ban_dict.get(champ,0) + 1\n",
    "\n",
    "for key in lcs_ban_dict:\n",
    "    lcs_ban_dict[key] = int(lcs_ban_dict[key] / 6)\n",
    "\n",
    "lcs_pick_df = pd.DataFrame.from_dict({'champion' : list(lcs_pick_dict.keys()), 'number of picks' : list(lcs_pick_dict.values())})\n",
    "lcs_pick_df = lcs_pick_df.dropna()\n",
    "lcs_pick_df = lcs_pick_df.sort_values('number of picks', ascending = False)\n",
    "\n",
    "lcs_ban_df = pd.DataFrame.from_dict({'champion' : list(lcs_ban_dict.keys()), 'number of bans' : list(lcs_ban_dict.values())})\n",
    "lcs_ban_df = lcs_ban_df.dropna()\n",
    "lcs_ban_df = lcs_ban_df.sort_values('number of bans', ascending = False)\n",
    "\n",
    "lcs_pick_ban_df = pd.merge(lcs_pick_df, lcs_ban_df, how=\"outer\", on=[\"champion\"]).fillna(0)\n",
    "lcs_pick_ban_df[\"pick and ban\"] = lcs_pick_ban_df.loc[:,[\"number of picks\", \"number of bans\"]].sum(axis=1)\n",
    "\n",
    "# There were 264 games played in LCS 2020 (counted outside of this notebook)\n",
    "lcs_pick_ban_df[\"P%\"] = 100 * lcs_pick_ban_df[\"number of picks\"] / 264\n",
    "lcs_pick_ban_df[\"B%\"] = 100 * lcs_pick_ban_df[\"number of bans\"] / 264\n",
    "lcs_pick_ban_df = lcs_pick_ban_df.sort_values(\"pick and ban\", ascending=False)"
   ]
  },
  {
   "cell_type": "code",
   "execution_count": 7,
   "metadata": {},
   "outputs": [
    {
     "data": {
      "text/plain": [
       "(2892, 117)"
      ]
     },
     "execution_count": 7,
     "metadata": {},
     "output_type": "execute_result"
    }
   ],
   "source": [
    "lec_df = df[(df[\"league\"] == \"LEC\")];\n",
    "lec_df.shape"
   ]
  },
  {
   "cell_type": "code",
   "execution_count": 8,
   "metadata": {},
   "outputs": [],
   "source": [
    "lec_pick_dict = dict()\n",
    "\n",
    "for champ in lec_df['champion']:\n",
    "    lec_pick_dict[champ] = lec_pick_dict.get(champ,0) + 1\n",
    "    \n",
    "lec_ban_dict = dict()\n",
    "\n",
    "for ban in lec_df[['ban1','ban2','ban3','ban4','ban5']]:\n",
    "    for champ in lec_df[ban]:\n",
    "        lec_ban_dict[champ] = lec_ban_dict.get(champ,0) + 1\n",
    "\n",
    "for key in lec_ban_dict:\n",
    "    lec_ban_dict[key] = int(lec_ban_dict[key] / 6)\n",
    "\n",
    "lec_pick_df = pd.DataFrame.from_dict({'champion' : list(lec_pick_dict.keys()), 'number of picks' : list(lec_pick_dict.values())})\n",
    "lec_pick_df = lec_pick_df.dropna()\n",
    "lec_pick_df = lec_pick_df.sort_values('number of picks', ascending = False)\n",
    "\n",
    "lec_ban_df = pd.DataFrame.from_dict({'champion' : list(lec_ban_dict.keys()), 'number of bans' : list(lec_ban_dict.values())})\n",
    "lec_ban_df = lec_ban_df.sort_values('number of bans', ascending = False)\n",
    "\n",
    "lec_pick_ban_df = pd.merge(lec_pick_df, lec_ban_df, how=\"outer\", on=[\"champion\"]).fillna(0)\n",
    "lec_pick_ban_df[\"pick and ban\"] = lec_pick_ban_df.loc[:,[\"number of picks\", \"number of bans\"]].sum(axis=1)\n",
    "\n",
    "# There were 241 games played in LEC 2020 (counted outside of this notebook)\n",
    "lec_pick_ban_df[\"P%\"] = 100 * lec_pick_ban_df[\"number of picks\"] / 241\n",
    "lec_pick_ban_df[\"B%\"] = 100 * lec_pick_ban_df[\"number of bans\"] / 241\n",
    "\n",
    "lec_pick_ban_df = lec_pick_ban_df.sort_values(\"pick and ban\", ascending=False)"
   ]
  },
  {
   "cell_type": "code",
   "execution_count": 9,
   "metadata": {},
   "outputs": [],
   "source": [
    "lec_pick_ban_df = lec_pick_ban_df.drop(labels=120, axis=0) # manually removing buggy entry"
   ]
  },
  {
   "cell_type": "code",
   "execution_count": 10,
   "metadata": {},
   "outputs": [
    {
     "data": {
      "text/plain": [
       "(5676, 117)"
      ]
     },
     "execution_count": 10,
     "metadata": {},
     "output_type": "execute_result"
    }
   ],
   "source": [
    "lck_df = df[(df[\"league\"] == \"LCK\")];\n",
    "lck_df.shape"
   ]
  },
  {
   "cell_type": "code",
   "execution_count": 11,
   "metadata": {},
   "outputs": [],
   "source": [
    "lck_pick_dict = dict()\n",
    "\n",
    "for champ in lck_df['champion']:\n",
    "    lck_pick_dict[champ] = lck_pick_dict.get(champ,0) + 1\n",
    "    \n",
    "lck_ban_dict = dict()\n",
    "\n",
    "for ban in lck_df[['ban1','ban2','ban3','ban4','ban5']]:\n",
    "    for champ in lck_df[ban]:\n",
    "        lck_ban_dict[champ] = lck_ban_dict.get(champ,0) + 1\n",
    "\n",
    "for key in lck_ban_dict:\n",
    "    lck_ban_dict[key] = int(lck_ban_dict[key] / 6)\n",
    "\n",
    "lck_pick_df = pd.DataFrame.from_dict({'champion' : list(lck_pick_dict.keys()), 'number of picks' : list(lck_pick_dict.values())})\n",
    "lck_pick_df = lck_pick_df.dropna()\n",
    "lck_pick_df = lck_pick_df.sort_values('number of picks', ascending = False)\n",
    "\n",
    "lck_ban_df = pd.DataFrame.from_dict({'champion' : list(lck_ban_dict.keys()), 'number of bans' : list(lck_ban_dict.values())})\n",
    "lck_ban_df = lck_ban_df.dropna()\n",
    "lck_ban_df = lck_ban_df.sort_values('number of bans', ascending = False)\n",
    "\n",
    "lck_pick_ban_df = pd.merge(lck_pick_df, lck_ban_df, how=\"outer\", on=[\"champion\"]).fillna(0)\n",
    "lck_pick_ban_df[\"pick and ban\"] = lck_pick_ban_df.loc[:,[\"number of picks\", \"number of bans\"]].sum(axis=1)\n",
    "\n",
    "# There were 473 games played in LCK 2020 (counted outside of this notebook)\n",
    "lck_pick_ban_df[\"P%\"] = 100 * lck_pick_ban_df[\"number of picks\"] / 473\n",
    "lck_pick_ban_df[\"B%\"] = 100 * lck_pick_ban_df[\"number of bans\"] / 473\n",
    "lck_pick_ban_df = lck_pick_ban_df.sort_values(\"pick and ban\", ascending=False)"
   ]
  },
  {
   "cell_type": "code",
   "execution_count": 12,
   "metadata": {},
   "outputs": [
    {
     "data": {
      "text/plain": [
       "(8712, 117)"
      ]
     },
     "execution_count": 12,
     "metadata": {},
     "output_type": "execute_result"
    }
   ],
   "source": [
    "lpl_df = df[(df[\"league\"] == \"LPL\")];\n",
    "lpl_df.shape"
   ]
  },
  {
   "cell_type": "code",
   "execution_count": 13,
   "metadata": {},
   "outputs": [],
   "source": [
    "lpl_pick_dict = dict()\n",
    "\n",
    "for champ in lpl_df['champion']:\n",
    "    lpl_pick_dict[champ] = lpl_pick_dict.get(champ,0) + 1\n",
    "    \n",
    "lpl_ban_dict = dict()\n",
    "\n",
    "for ban in lpl_df[['ban1','ban2','ban3','ban4','ban5']]:\n",
    "    for champ in lpl_df[ban]:\n",
    "        lpl_ban_dict[champ] = lpl_ban_dict.get(champ,0) + 1\n",
    "\n",
    "for key in lpl_ban_dict:\n",
    "    lpl_ban_dict[key] = int(lpl_ban_dict[key] / 6)\n",
    "\n",
    "lpl_pick_df = pd.DataFrame.from_dict({'champion' : list(lpl_pick_dict.keys()), 'number of picks' : list(lpl_pick_dict.values())})\n",
    "lpl_pick_df = lpl_pick_df.dropna()\n",
    "lpl_pick_df = lpl_pick_df.sort_values('number of picks', ascending = False)\n",
    "\n",
    "lpl_ban_df = pd.DataFrame.from_dict({'champion' : list(lpl_ban_dict.keys()), 'number of bans' : list(lpl_ban_dict.values())})\n",
    "lpl_ban_df = lpl_ban_df.dropna()\n",
    "lpl_ban_df = lpl_ban_df.sort_values('number of bans', ascending = False)\n",
    "\n",
    "lpl_pick_ban_df = pd.merge(lpl_pick_df, lpl_ban_df, how=\"outer\", on=[\"champion\"]).fillna(0)\n",
    "lpl_pick_ban_df[\"pick and ban\"] = lpl_pick_ban_df.loc[:,[\"number of picks\", \"number of bans\"]].sum(axis=1)\n",
    "\n",
    "# There were 726 games played in LPL 2020 (counted outside of this notebook)\n",
    "lpl_pick_ban_df[\"P%\"] = 100 * lpl_pick_ban_df[\"number of picks\"] / 726\n",
    "lpl_pick_ban_df[\"B%\"] = 100 * lpl_pick_ban_df[\"number of bans\"] / 726\n",
    "lpl_pick_ban_df = lpl_pick_ban_df.sort_values(\"pick and ban\", ascending=False)"
   ]
  },
  {
   "cell_type": "code",
   "execution_count": 14,
   "metadata": {},
   "outputs": [],
   "source": [
    "# Setting up figures\n",
    "\n",
    "lcs_picks = px.bar(lcs_pick_df, x=\"champion\", y=\"number of picks\");\n",
    "lcs_bans = px.bar(lcs_ban_df, x=\"champion\", y=\"number of bans\");\n",
    "\n",
    "lcs_pick_ban_percentage = px.bar(lcs_pick_ban_df, x=\"champion\", y=[\"P%\",\"B%\"]);\n",
    "lcs_pick_ban_percentage.update_layout(yaxis_title=\"P/B %\", xaxis=dict(tickmode='linear'));\n",
    "lcs_pick_ban_percentage.update_yaxes(range=[0,100]);\n",
    "\n",
    "\n",
    "lec_picks = px.bar(lec_pick_df, x=\"champion\", y=\"number of picks\");\n",
    "lec_bans = px.bar(lec_ban_df, x=\"champion\", y=\"number of bans\");\n",
    "\n",
    "lec_pick_ban_percentage = px.bar(lec_pick_ban_df, x=\"champion\", y=[\"P%\",\"B%\"]);\n",
    "lec_pick_ban_percentage.update_layout(yaxis_title=\"P/B %\", xaxis=dict(tickmode='linear'));\n",
    "lec_pick_ban_percentage.update_yaxes(range=[0,100]);\n",
    "\n",
    "lck_picks = px.bar(lck_pick_df, x=\"champion\", y=\"number of picks\");\n",
    "lck_bans = px.bar(lck_ban_df, x=\"champion\", y=\"number of bans\");\n",
    "\n",
    "lck_pick_ban_percentage = px.bar(lck_pick_ban_df, x=\"champion\", y=[\"P%\",\"B%\"]);\n",
    "lck_pick_ban_percentage.update_layout(yaxis_title=\"P/B %\", xaxis=dict(tickmode='linear'));\n",
    "lck_pick_ban_percentage.update_yaxes(range=[0,100]);\n",
    "\n",
    "lpl_picks = px.bar(lpl_pick_df, x=\"champion\", y=\"number of picks\");\n",
    "lpl_bans = px.bar(lpl_ban_df, x=\"champion\", y=\"number of bans\");\n",
    "\n",
    "lpl_pick_ban_percentage = px.bar(lpl_pick_ban_df, x=\"champion\", y=[\"P%\",\"B%\"]);\n",
    "lpl_pick_ban_percentage.update_layout(yaxis_title=\"P/B %\", xaxis=dict(tickmode='linear'));\n",
    "lpl_pick_ban_percentage.update_yaxes(range=[0,100]);"
   ]
  },
  {
   "cell_type": "code",
   "execution_count": 18,
   "metadata": {},
   "outputs": [
    {
     "name": "stdout",
     "output_type": "stream",
     "text": [
      "Dash app running on http://localhost:8051/\n"
     ]
    }
   ],
   "source": [
    "external_stylesheets = ['https://codepen.io/chriddyp/pen/bWLwgP.css']\n",
    "\n",
    "app = JupyterDash(__name__, external_stylesheets=external_stylesheets)\n",
    "\n",
    "app.layout = html.Div([\n",
    "    html.H1('Lol Esports 2020 Visualizer'),\n",
    "    \n",
    "    html.H3('Pick-Ban by Region'),\n",
    "    \n",
    "    dcc.Dropdown(id='region-dropdown', options=[\n",
    "        {'label' : 'LCS', 'value' : 'lcs'},\n",
    "        {'label' : 'LEC', 'value' : 'lec'},\n",
    "        {'label' : 'LCK', 'value' : 'lck'},\n",
    "        {'label' : 'LPL', 'value' : 'lpl'},\n",
    "    ], value='lcs',),\n",
    "    \n",
    "    html.Div(id='region-num-games'),\n",
    "       \n",
    "    dcc.Graph(\n",
    "        id='pick-graph',\n",
    "        figure=lcs_picks\n",
    "    ),\n",
    "    \n",
    "        \n",
    "    dcc.Graph(\n",
    "        id='ban-graph',\n",
    "        figure=lcs_bans\n",
    "    ),\n",
    "    \n",
    "        \n",
    "    dcc.Graph(\n",
    "        id='p-b-percentage',\n",
    "        figure=lcs_pick_ban_percentage\n",
    "    ),\n",
    "    \n",
    "    html.Div(\"Match data taken from Oracle's Elixir\")\n",
    "])\n",
    "\n",
    "@app.callback(\n",
    "    Output('region-num-games', 'children'),\n",
    "    [Input('region-dropdown', 'value')]\n",
    ")\n",
    "def update_num_games(value):\n",
    "    if (value == 'lcs'):\n",
    "        return 'There were 264 games played in LCS 2020.'\n",
    "    elif (value == 'lec'):\n",
    "        return 'There were 241 games played in LEC 2020.'\n",
    "    elif (value == 'lck'):\n",
    "        return 'There were 473 games played in LCK 2020.'\n",
    "    elif (value == 'lpl'):\n",
    "        return 'There were 726 games played in LPL 2020.'\n",
    "    \n",
    "@app.callback(\n",
    "    Output('pick-graph', 'figure'),\n",
    "    [Input(component_id='region-dropdown', component_property='value')]\n",
    ")\n",
    "def update_picks(value):\n",
    "    if (value == 'lcs'):\n",
    "        return lcs_picks\n",
    "    elif (value == 'lec'):\n",
    "        return lec_picks\n",
    "    elif (value == 'lck'):\n",
    "        return lck_picks\n",
    "    elif (value == 'lpl'):\n",
    "        return lpl_picks\n",
    "@app.callback(\n",
    "    Output('ban-graph', 'figure'),\n",
    "    [Input(component_id='region-dropdown', component_property='value')]\n",
    ")\n",
    "def update_bans(value):\n",
    "    if (value == 'lcs'):\n",
    "        return lcs_bans\n",
    "    elif (value == 'lec'):\n",
    "        return lec_bans\n",
    "    elif (value == 'lck'):\n",
    "        return lck_bans\n",
    "    elif (value == 'lpl'):\n",
    "        return lpl_bans\n",
    "@app.callback(\n",
    "    Output('p-b-percentage', 'figure'),\n",
    "    [Input(component_id='region-dropdown', component_property='value')]\n",
    ")\n",
    "def update_p_b_per(value):\n",
    "    if (value == 'lcs'):\n",
    "        return lcs_pick_ban_percentage\n",
    "    elif (value == 'lec'):\n",
    "        return lec_pick_ban_percentage\n",
    "    elif (value == 'lck'):\n",
    "        return lck_pick_ban_percentage\n",
    "    elif (value == 'lpl'):\n",
    "        return lpl_pick_ban_percentage\n",
    "\n",
    "app.run_server(host=\"localhost\",port=8051) # use whatever port is not 'in use', I'm not sure how this part works."
   ]
  },
  {
   "cell_type": "code",
   "execution_count": null,
   "metadata": {},
   "outputs": [],
   "source": []
  }
 ],
 "metadata": {
  "kernelspec": {
   "display_name": "Python 3",
   "language": "python",
   "name": "python3"
  },
  "language_info": {
   "codemirror_mode": {
    "name": "ipython",
    "version": 3
   },
   "file_extension": ".py",
   "mimetype": "text/x-python",
   "name": "python",
   "nbconvert_exporter": "python",
   "pygments_lexer": "ipython3",
   "version": "3.7.6"
  }
 },
 "nbformat": 4,
 "nbformat_minor": 4
}
